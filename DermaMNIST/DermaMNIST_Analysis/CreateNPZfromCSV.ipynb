{
 "cells": [
  {
   "cell_type": "code",
   "execution_count": null,
   "id": "53390131",
   "metadata": {},
   "outputs": [],
   "source": [
    "import os\n",
    "import numpy as np\n",
    "import matplotlib.pyplot as plt\n",
    "import pandas as pd\n",
    "from PIL import Image\n",
    "from pathlib import Path\n",
    "\n",
    "from tqdm import tqdm"
   ]
  },
  {
   "cell_type": "markdown",
   "id": "681824eb",
   "metadata": {},
   "source": [
    "## Define directories for images, metadata (CSV), and target location for NPZ files."
   ]
  },
  {
   "cell_type": "code",
   "execution_count": null,
   "id": "3e1c84ea",
   "metadata": {},
   "outputs": [],
   "source": [
    "images_dir = Path(\"/local-scratch/localhome/kabhishe/WorkingDir/HAM10000/images\")\n",
    "metadata_dir = Path(\"CSV_files\")\n",
    "npz_files_save_dir = Path(\"NPZ_files\")"
   ]
  },
  {
   "cell_type": "markdown",
   "id": "bf9f6897",
   "metadata": {},
   "source": [
    "## Define a diagnosis-to-integer mapping.\n",
    "\n",
    "This will be used to assign labels in the NPZ files."
   ]
  },
  {
   "cell_type": "code",
   "execution_count": null,
   "id": "571e7434",
   "metadata": {},
   "outputs": [],
   "source": [
    "dx_int_map = {\n",
    "    \"akiec\": 0,\n",
    "    \"bcc\": 1,\n",
    "    \"bkl\": 2,\n",
    "    \"df\": 3,\n",
    "    \"mel\": 4,\n",
    "    \"nv\": 5,\n",
    "    \"vasc\": 6\n",
    "}"
   ]
  },
  {
   "cell_type": "markdown",
   "id": "d5f2e81a",
   "metadata": {},
   "source": [
    "## Define a function that, given a metadata file (CSV), creates NPZ files containing the images and the labels."
   ]
  },
  {
   "cell_type": "code",
   "execution_count": null,
   "id": "e8e7ab8f",
   "metadata": {},
   "outputs": [],
   "source": [
    "def dataset_to_npz(images_dir: Path, metadata_csv: Path, npz_save_dir: Path, npz_filename: str, size: int):\n",
    "    \n",
    "    npz_output = {}\n",
    "    for split in [\"train\", \"val\", \"test\"]:\n",
    "        npz_output[f\"{split}_images\"] = []\n",
    "        npz_output[f\"{split}_labels\"] = []\n",
    "        \n",
    "    metadata_df = pd.read_csv(metadata_csv, header=\"infer\")\n",
    "    \n",
    "    for _, row in tqdm(metadata_df.iterrows()):\n",
    "        split = row[\"split\"]\n",
    "        \n",
    "        image = Image.open(images_dir / (row[\"image_id\"] + \".jpg\"))\n",
    "        label = row[\"dx\"]\n",
    "\n",
    "        resized_image = image.resize((size, size), resample=Image.BICUBIC)\n",
    "        mapped_label = dx_int_map[label]\n",
    "\n",
    "        resized_img_array = np.asarray(resized_image)\n",
    "        \n",
    "        npz_output[f\"{split}_images\"].append(resized_img_array)\n",
    "        npz_output[f\"{split}_labels\"].append(mapped_label)\n",
    "        \n",
    "    for split in [\"train\", \"val\", \"test\"]:\n",
    "        npz_output[f\"{split}_images\"] = np.stack(npz_output[f\"{split}_images\"]).astype(np.uint8)\n",
    "        npz_output[f\"{split}_labels\"] = np.stack(npz_output[f\"{split}_labels\"]).reshape(-1, 1).astype(np.uint8)\n",
    "        \n",
    "    np.savez_compressed(\n",
    "        npz_save_dir / (npz_filename + \".npz\"), \n",
    "        train_images=npz_output[\"train_images\"],\n",
    "        train_labels=npz_output[\"train_labels\"],\n",
    "        val_images=npz_output[\"val_images\"],\n",
    "        val_labels=npz_output[\"val_labels\"],\n",
    "        test_images=npz_output[\"test_images\"],\n",
    "        test_labels=npz_output[\"test_labels\"],\n",
    "    )"
   ]
  },
  {
   "cell_type": "markdown",
   "id": "3797c3c6",
   "metadata": {},
   "source": [
    "## Create 28x28 and 224x224 versions for DermaMNIST-C."
   ]
  },
  {
   "cell_type": "code",
   "execution_count": null,
   "id": "cd64887f",
   "metadata": {},
   "outputs": [],
   "source": [
    "dataset_to_npz(\n",
    "    images_dir=images_dir, \n",
    "    metadata_csv=metadata_dir / \"combined_metadata_corrected-HAM10000_corrected.csv\",\n",
    "    npz_save_dir=npz_files_save_dir,\n",
    "    npz_filename=\"dermamnist_corrected_28\",\n",
    "    size=28\n",
    ")\n",
    "\n",
    "dataset_to_npz(\n",
    "    images_dir=images_dir, \n",
    "    metadata_csv=metadata_dir / \"combined_metadata_corrected-HAM10000_corrected.csv\",\n",
    "    npz_save_dir=npz_files_save_dir,\n",
    "    npz_filename=\"dermamnist_corrected_224\",\n",
    "    size=224\n",
    ")"
   ]
  },
  {
   "cell_type": "markdown",
   "id": "53a4193c",
   "metadata": {},
   "source": [
    "## Create 28x28 and 224x224 versions for DermaMNIST-E."
   ]
  },
  {
   "cell_type": "code",
   "execution_count": null,
   "id": "9b1e1282",
   "metadata": {},
   "outputs": [],
   "source": [
    "dataset_to_npz(\n",
    "    images_dir=images_dir, \n",
    "    metadata_csv=metadata_dir / \"combined_extended.csv\",\n",
    "    npz_save_dir=npz_files_save_dir,\n",
    "    npz_filename=\"dermamnist_extended_28\",\n",
    "    size=28\n",
    ")\n",
    "\n",
    "dataset_to_npz(\n",
    "    images_dir=images_dir, \n",
    "    metadata_csv=metadata_dir / \"combined_extended.csv\",\n",
    "    npz_save_dir=npz_files_save_dir,\n",
    "    npz_filename=\"dermamnist_extended_224\",\n",
    "    size=224\n",
    ")"
   ]
  }
 ],
 "metadata": {
  "kernelspec": {
   "display_name": "Python 3 (ipykernel)",
   "language": "python",
   "name": "python3"
  },
  "language_info": {
   "codemirror_mode": {
    "name": "ipython",
    "version": 3
   },
   "file_extension": ".py",
   "mimetype": "text/x-python",
   "name": "python",
   "nbconvert_exporter": "python",
   "pygments_lexer": "ipython3",
   "version": "3.10.4"
  }
 },
 "nbformat": 4,
 "nbformat_minor": 5
}
