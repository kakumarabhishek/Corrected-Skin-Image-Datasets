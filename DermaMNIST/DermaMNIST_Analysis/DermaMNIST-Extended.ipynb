{
 "cells": [
  {
   "cell_type": "code",
   "execution_count": 1,
   "id": "74e40f31",
   "metadata": {},
   "outputs": [],
   "source": [
    "%matplotlib inline"
   ]
  },
  {
   "cell_type": "code",
   "execution_count": 2,
   "id": "2db61316",
   "metadata": {},
   "outputs": [],
   "source": [
    "import os\n",
    "import numpy as np\n",
    "import pandas as pd\n",
    "from PIL import Image\n",
    "from tqdm import tqdm\n",
    "\n",
    "import matplotlib.pyplot as plt\n",
    "import seaborn as sns\n",
    "sns.set()\n",
    "\n",
    "from pathlib import Path\n",
    "from typing import Union"
   ]
  },
  {
   "cell_type": "code",
   "execution_count": 3,
   "id": "23847fe2",
   "metadata": {},
   "outputs": [],
   "source": [
    "parent_data_dir = Path(\"/local-scratch2/Datasets/ISBI_ISIC/2018/Task3\")\n",
    "\n",
    "target_metadata_dir = Path(\"CSV_files\")\n",
    "target_npz_files_save_dir = Path(\"NPZ_files\")\n",
    "\n",
    "data_dirs = {\n",
    "    \"train\": {\n",
    "        \"imgs\": parent_data_dir / \"ISIC2018_Task3_Training_Input\",\n",
    "        \"lbls\": parent_data_dir / \"ISIC2018_Task3_Training_GroundTruth/ISIC2018_Task3_Training_GroundTruth.csv\"\n",
    "    },\n",
    "    \"val\": {\n",
    "        \"imgs\": parent_data_dir / \"ISIC2018_Task3_Validation_Input\",\n",
    "        \"lbls\": parent_data_dir / \"ISIC2018_Task3_Validation_GroundTruth/ISIC2018_Task3_Validation_GroundTruth.csv\"\n",
    "    },\n",
    "    \"test\": {\n",
    "        \"imgs\": parent_data_dir / \"ISIC2018_Task3_Test_Input\",\n",
    "        \"lbls\": parent_data_dir / \"ISIC2018_Task3_Test_GroundTruth/ISIC2018_Task3_Test_GroundTruth.csv\"\n",
    "    }\n",
    "}\n",
    "\n",
    "dx_int_map = {\n",
    "    \"akiec\": 0,\n",
    "    \"bcc\": 1,\n",
    "    \"bkl\": 2,\n",
    "    \"df\": 3,\n",
    "    \"mel\": 4,\n",
    "    \"nv\": 5,\n",
    "    \"vasc\": 6\n",
    "}"
   ]
  },
  {
   "cell_type": "code",
   "execution_count": 4,
   "id": "ea4e9b02",
   "metadata": {},
   "outputs": [
    {
     "name": "stdout",
     "output_type": "stream",
     "text": [
      "(11720, 11)\n",
      "train    10015\n",
      "test      1512\n",
      "val        193\n",
      "Name: split, dtype: int64\n"
     ]
    }
   ],
   "source": [
    "df_metadata = {}\n",
    "\n",
    "for split in data_dirs:\n",
    "    df_metadata[split] = pd.read_csv(data_dirs[split][\"lbls\"], header=\"infer\")\n",
    "    # https://stackoverflow.com/a/38716553\n",
    "    df_metadata[split][\"diag\"] = df_metadata[split][[\"MEL\",\"NV\",\"BCC\",\"AKIEC\",\"BKL\",\"DF\",\"VASC\"]].idxmax(axis=1)\n",
    "    # https://stackoverflow.com/a/22247593\n",
    "    df_metadata[split][\"diag\"] = df_metadata[split][\"diag\"].str.lower()\n",
    "    df_metadata[split][\"diag_int\"] = df_metadata[split][\"diag\"].map(dx_int_map)\n",
    "    df_metadata[split][\"split\"] = split\n",
    "\n",
    "combined_df = pd.concat([df_metadata[split] for split in data_dirs])\n",
    "print(combined_df.shape)\n",
    "print(combined_df[\"split\"].value_counts())"
   ]
  },
  {
   "cell_type": "code",
   "execution_count": 5,
   "id": "6ec5fe1d",
   "metadata": {},
   "outputs": [
    {
     "data": {
      "text/html": [
       "<div>\n",
       "<style scoped>\n",
       "    .dataframe tbody tr th:only-of-type {\n",
       "        vertical-align: middle;\n",
       "    }\n",
       "\n",
       "    .dataframe tbody tr th {\n",
       "        vertical-align: top;\n",
       "    }\n",
       "\n",
       "    .dataframe thead th {\n",
       "        text-align: right;\n",
       "    }\n",
       "</style>\n",
       "<table border=\"1\" class=\"dataframe\">\n",
       "  <thead>\n",
       "    <tr style=\"text-align: right;\">\n",
       "      <th></th>\n",
       "      <th>image</th>\n",
       "      <th>MEL</th>\n",
       "      <th>NV</th>\n",
       "      <th>BCC</th>\n",
       "      <th>AKIEC</th>\n",
       "      <th>BKL</th>\n",
       "      <th>DF</th>\n",
       "      <th>VASC</th>\n",
       "      <th>diag</th>\n",
       "      <th>diag_int</th>\n",
       "      <th>split</th>\n",
       "    </tr>\n",
       "  </thead>\n",
       "  <tbody>\n",
       "    <tr>\n",
       "      <th>0</th>\n",
       "      <td>ISIC_0024306</td>\n",
       "      <td>0.0</td>\n",
       "      <td>1.0</td>\n",
       "      <td>0.0</td>\n",
       "      <td>0.0</td>\n",
       "      <td>0.0</td>\n",
       "      <td>0.0</td>\n",
       "      <td>0.0</td>\n",
       "      <td>nv</td>\n",
       "      <td>5</td>\n",
       "      <td>train</td>\n",
       "    </tr>\n",
       "    <tr>\n",
       "      <th>1</th>\n",
       "      <td>ISIC_0024307</td>\n",
       "      <td>0.0</td>\n",
       "      <td>1.0</td>\n",
       "      <td>0.0</td>\n",
       "      <td>0.0</td>\n",
       "      <td>0.0</td>\n",
       "      <td>0.0</td>\n",
       "      <td>0.0</td>\n",
       "      <td>nv</td>\n",
       "      <td>5</td>\n",
       "      <td>train</td>\n",
       "    </tr>\n",
       "    <tr>\n",
       "      <th>2</th>\n",
       "      <td>ISIC_0024308</td>\n",
       "      <td>0.0</td>\n",
       "      <td>1.0</td>\n",
       "      <td>0.0</td>\n",
       "      <td>0.0</td>\n",
       "      <td>0.0</td>\n",
       "      <td>0.0</td>\n",
       "      <td>0.0</td>\n",
       "      <td>nv</td>\n",
       "      <td>5</td>\n",
       "      <td>train</td>\n",
       "    </tr>\n",
       "    <tr>\n",
       "      <th>3</th>\n",
       "      <td>ISIC_0024309</td>\n",
       "      <td>0.0</td>\n",
       "      <td>1.0</td>\n",
       "      <td>0.0</td>\n",
       "      <td>0.0</td>\n",
       "      <td>0.0</td>\n",
       "      <td>0.0</td>\n",
       "      <td>0.0</td>\n",
       "      <td>nv</td>\n",
       "      <td>5</td>\n",
       "      <td>train</td>\n",
       "    </tr>\n",
       "    <tr>\n",
       "      <th>4</th>\n",
       "      <td>ISIC_0024310</td>\n",
       "      <td>1.0</td>\n",
       "      <td>0.0</td>\n",
       "      <td>0.0</td>\n",
       "      <td>0.0</td>\n",
       "      <td>0.0</td>\n",
       "      <td>0.0</td>\n",
       "      <td>0.0</td>\n",
       "      <td>mel</td>\n",
       "      <td>4</td>\n",
       "      <td>train</td>\n",
       "    </tr>\n",
       "  </tbody>\n",
       "</table>\n",
       "</div>"
      ],
      "text/plain": [
       "          image  MEL   NV  BCC  AKIEC  BKL   DF  VASC diag  diag_int  split\n",
       "0  ISIC_0024306  0.0  1.0  0.0    0.0  0.0  0.0   0.0   nv         5  train\n",
       "1  ISIC_0024307  0.0  1.0  0.0    0.0  0.0  0.0   0.0   nv         5  train\n",
       "2  ISIC_0024308  0.0  1.0  0.0    0.0  0.0  0.0   0.0   nv         5  train\n",
       "3  ISIC_0024309  0.0  1.0  0.0    0.0  0.0  0.0   0.0   nv         5  train\n",
       "4  ISIC_0024310  1.0  0.0  0.0    0.0  0.0  0.0   0.0  mel         4  train"
      ]
     },
     "execution_count": 5,
     "metadata": {},
     "output_type": "execute_result"
    }
   ],
   "source": [
    "combined_df.head()"
   ]
  },
  {
   "cell_type": "code",
   "execution_count": 6,
   "id": "fa2e7aa3",
   "metadata": {},
   "outputs": [],
   "source": [
    "combined_df.to_csv(target_metadata_dir / \"combined_extended.csv\", index=False)"
   ]
  },
  {
   "cell_type": "code",
   "execution_count": 7,
   "id": "7b07e73b",
   "metadata": {},
   "outputs": [
    {
     "data": {
      "image/png": "[encoded data removed]",
      "text/plain": [
       "<Figure size 425.475x360 with 1 Axes>"
      ]
     },
     "metadata": {},
     "output_type": "display_data"
    }
   ],
   "source": [
    "hue_order = [\"train\", \"val\", \"test\"]\n",
    "dx_order = [\"akiec\", \"bcc\", \"bkl\", \"df\", \"mel\", \"nv\", \"vasc\"]\n",
    "\n",
    "sns.catplot(data=combined_df, kind=\"count\", x=\"diag\", hue=\"split\", order=dx_order, hue_order=hue_order)\n",
    "plt.yscale(\"log\")"
   ]
  },
  {
   "cell_type": "code",
   "execution_count": 8,
   "id": "e9c8ff6e",
   "metadata": {},
   "outputs": [],
   "source": [
    "def dataset_to_npz(data_dirs: dict, metadata_csv: Path, npz_save_dir: Path, npz_filename: str, size: int):\n",
    "    \n",
    "    npz_output = {}\n",
    "    for split in [\"train\", \"val\", \"test\"]:\n",
    "        npz_output[f\"{split}_images\"] = []\n",
    "        npz_output[f\"{split}_labels\"] = []\n",
    "        \n",
    "    metadata_df = pd.read_csv(metadata_csv, header=\"infer\")\n",
    "    \n",
    "    for _, row in tqdm(metadata_df.iterrows()):\n",
    "        split = row[\"split\"]\n",
    "        \n",
    "        image = Image.open(data_dirs[split][\"imgs\"] / (row[\"image\"] + \".jpg\"))\n",
    "        label = row[\"diag\"]\n",
    "\n",
    "        resized_image = image.resize((size, size), resample=Image.BICUBIC)\n",
    "        mapped_label = dx_int_map[label]\n",
    "\n",
    "        resized_img_array = np.asarray(resized_image)\n",
    "        \n",
    "        npz_output[f\"{split}_images\"].append(resized_img_array)\n",
    "        npz_output[f\"{split}_labels\"].append(mapped_label)\n",
    "        \n",
    "    for split in [\"train\", \"val\", \"test\"]:\n",
    "        npz_output[f\"{split}_images\"] = np.stack(npz_output[f\"{split}_images\"]).astype(np.uint8)\n",
    "        npz_output[f\"{split}_labels\"] = np.stack(npz_output[f\"{split}_labels\"]).reshape(-1, 1).astype(np.uint8)\n",
    "        \n",
    "    np.savez_compressed(\n",
    "        npz_save_dir / (npz_filename + \".npz\"), \n",
    "        train_images=npz_output[\"train_images\"],\n",
    "        train_labels=npz_output[\"train_labels\"],\n",
    "        val_images=npz_output[\"val_images\"],\n",
    "        val_labels=npz_output[\"val_labels\"],\n",
    "        test_images=npz_output[\"test_images\"],\n",
    "        test_labels=npz_output[\"test_labels\"],\n",
    "    )"
   ]
  },
  {
   "cell_type": "code",
   "execution_count": 9,
   "id": "c445c4b8",
   "metadata": {},
   "outputs": [
    {
     "name": "stderr",
     "output_type": "stream",
     "text": [
      "11720it [01:19, 148.33it/s]\n"
     ]
    }
   ],
   "source": [
    "dataset_to_npz(\n",
    "    data_dirs=data_dirs,\n",
    "    metadata_csv=target_metadata_dir / \"combined_extended.csv\",\n",
    "    npz_save_dir=target_npz_files_save_dir,\n",
    "    npz_filename=\"combined_extended_28\",\n",
    "    size=28\n",
    ")"
   ]
  },
  {
   "cell_type": "code",
   "execution_count": 10,
   "id": "29f43bc0",
   "metadata": {},
   "outputs": [
    {
     "name": "stderr",
     "output_type": "stream",
     "text": [
      "11720it [01:27, 134.33it/s]\n"
     ]
    }
   ],
   "source": [
    "dataset_to_npz(\n",
    "    data_dirs=data_dirs,\n",
    "    metadata_csv=target_metadata_dir / \"combined_extended.csv\",\n",
    "    npz_save_dir=target_npz_files_save_dir,\n",
    "    npz_filename=\"combined_extended_224\",\n",
    "    size=224\n",
    ")"
   ]
  }
 ],
 "metadata": {
  "kernelspec": {
   "display_name": "Python 3 (ipykernel)",
   "language": "python",
   "name": "python3"
  },
  "language_info": {
   "codemirror_mode": {
    "name": "ipython",
    "version": 3
   },
   "file_extension": ".py",
   "mimetype": "text/x-python",
   "name": "python",
   "nbconvert_exporter": "python",
   "pygments_lexer": "ipython3",
   "version": "3.10.4"
  }
 },
 "nbformat": 4,
 "nbformat_minor": 5
}
