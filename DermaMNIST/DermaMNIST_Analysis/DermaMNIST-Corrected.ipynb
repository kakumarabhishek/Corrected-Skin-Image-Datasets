{
 "cells": [
  {
   "cell_type": "code",
   "execution_count": 1,
   "id": "747fedc2",
   "metadata": {},
   "outputs": [],
   "source": [
    "%matplotlib inline"
   ]
  },
  {
   "cell_type": "code",
   "execution_count": 2,
   "id": "453ff64b",
   "metadata": {},
   "outputs": [],
   "source": [
    "import os\n",
    "import pandas as pd\n",
    "import matplotlib.pyplot as plt\n",
    "import seaborn as sns\n",
    "sns.set()\n",
    "\n",
    "from pathlib import Path\n",
    "from typing import Union"
   ]
  },
  {
   "cell_type": "markdown",
   "id": "e2522143",
   "metadata": {},
   "source": [
    "## Read metadata files:\n",
    "- HAM10000 original metadata files\n",
    "- DermaMNIST train-valid-test split information"
   ]
  },
  {
   "cell_type": "code",
   "execution_count": 3,
   "id": "5b823b87",
   "metadata": {},
   "outputs": [],
   "source": [
    "ham10k_metadata_file: Union[str, Path] = Path(\"HAM10000_metadata.csv\")\n",
    "dermamnist_metadata_file: Union[str, Path] = Path(\"dermamnist_split_info.csv\")"
   ]
  },
  {
   "cell_type": "code",
   "execution_count": 4,
   "id": "cb7852e7",
   "metadata": {},
   "outputs": [],
   "source": [
    "ham10k_metadata: pd.DataFrame = pd.read_csv(ham10k_metadata_file, header='infer')\n",
    "dermamnist_metadata: pd.DataFrame = pd.read_csv(dermamnist_metadata_file, header='infer')\n",
    "dermamnist_metadata: pd.DataFrame = dermamnist_metadata.drop('index', axis=1)"
   ]
  },
  {
   "cell_type": "markdown",
   "id": "6841e3da",
   "metadata": {},
   "source": [
    "### Assert whether the dataframes have the same number of rows and print their `head()`."
   ]
  },
  {
   "cell_type": "code",
   "execution_count": 5,
   "id": "4a85027a",
   "metadata": {},
   "outputs": [],
   "source": [
    "assert ham10k_metadata.shape[0] == dermamnist_metadata.shape[0]"
   ]
  },
  {
   "cell_type": "code",
   "execution_count": 6,
   "id": "0dfe1889",
   "metadata": {},
   "outputs": [
    {
     "data": {
      "text/html": [
       "<div>\n",
       "<style scoped>\n",
       "    .dataframe tbody tr th:only-of-type {\n",
       "        vertical-align: middle;\n",
       "    }\n",
       "\n",
       "    .dataframe tbody tr th {\n",
       "        vertical-align: top;\n",
       "    }\n",
       "\n",
       "    .dataframe thead th {\n",
       "        text-align: right;\n",
       "    }\n",
       "</style>\n",
       "<table border=\"1\" class=\"dataframe\">\n",
       "  <thead>\n",
       "    <tr style=\"text-align: right;\">\n",
       "      <th></th>\n",
       "      <th>lesion_id</th>\n",
       "      <th>image_id</th>\n",
       "      <th>dx</th>\n",
       "      <th>dx_type</th>\n",
       "      <th>age</th>\n",
       "      <th>sex</th>\n",
       "      <th>localization</th>\n",
       "      <th>dataset</th>\n",
       "    </tr>\n",
       "  </thead>\n",
       "  <tbody>\n",
       "    <tr>\n",
       "      <th>0</th>\n",
       "      <td>HAM_0000118</td>\n",
       "      <td>ISIC_0027419</td>\n",
       "      <td>bkl</td>\n",
       "      <td>histo</td>\n",
       "      <td>80.0</td>\n",
       "      <td>male</td>\n",
       "      <td>scalp</td>\n",
       "      <td>vidir_modern</td>\n",
       "    </tr>\n",
       "    <tr>\n",
       "      <th>1</th>\n",
       "      <td>HAM_0000118</td>\n",
       "      <td>ISIC_0025030</td>\n",
       "      <td>bkl</td>\n",
       "      <td>histo</td>\n",
       "      <td>80.0</td>\n",
       "      <td>male</td>\n",
       "      <td>scalp</td>\n",
       "      <td>vidir_modern</td>\n",
       "    </tr>\n",
       "    <tr>\n",
       "      <th>2</th>\n",
       "      <td>HAM_0002730</td>\n",
       "      <td>ISIC_0026769</td>\n",
       "      <td>bkl</td>\n",
       "      <td>histo</td>\n",
       "      <td>80.0</td>\n",
       "      <td>male</td>\n",
       "      <td>scalp</td>\n",
       "      <td>vidir_modern</td>\n",
       "    </tr>\n",
       "    <tr>\n",
       "      <th>3</th>\n",
       "      <td>HAM_0002730</td>\n",
       "      <td>ISIC_0025661</td>\n",
       "      <td>bkl</td>\n",
       "      <td>histo</td>\n",
       "      <td>80.0</td>\n",
       "      <td>male</td>\n",
       "      <td>scalp</td>\n",
       "      <td>vidir_modern</td>\n",
       "    </tr>\n",
       "    <tr>\n",
       "      <th>4</th>\n",
       "      <td>HAM_0001466</td>\n",
       "      <td>ISIC_0031633</td>\n",
       "      <td>bkl</td>\n",
       "      <td>histo</td>\n",
       "      <td>75.0</td>\n",
       "      <td>male</td>\n",
       "      <td>ear</td>\n",
       "      <td>vidir_modern</td>\n",
       "    </tr>\n",
       "  </tbody>\n",
       "</table>\n",
       "</div>"
      ],
      "text/plain": [
       "     lesion_id      image_id   dx dx_type   age   sex localization  \\\n",
       "0  HAM_0000118  ISIC_0027419  bkl   histo  80.0  male        scalp   \n",
       "1  HAM_0000118  ISIC_0025030  bkl   histo  80.0  male        scalp   \n",
       "2  HAM_0002730  ISIC_0026769  bkl   histo  80.0  male        scalp   \n",
       "3  HAM_0002730  ISIC_0025661  bkl   histo  80.0  male        scalp   \n",
       "4  HAM_0001466  ISIC_0031633  bkl   histo  75.0  male          ear   \n",
       "\n",
       "        dataset  \n",
       "0  vidir_modern  \n",
       "1  vidir_modern  \n",
       "2  vidir_modern  \n",
       "3  vidir_modern  \n",
       "4  vidir_modern  "
      ]
     },
     "execution_count": 6,
     "metadata": {},
     "output_type": "execute_result"
    }
   ],
   "source": [
    "ham10k_metadata.head()"
   ]
  },
  {
   "cell_type": "code",
   "execution_count": 7,
   "id": "4c97b01c",
   "metadata": {},
   "outputs": [
    {
     "data": {
      "text/html": [
       "<div>\n",
       "<style scoped>\n",
       "    .dataframe tbody tr th:only-of-type {\n",
       "        vertical-align: middle;\n",
       "    }\n",
       "\n",
       "    .dataframe tbody tr th {\n",
       "        vertical-align: top;\n",
       "    }\n",
       "\n",
       "    .dataframe thead th {\n",
       "        text-align: right;\n",
       "    }\n",
       "</style>\n",
       "<table border=\"1\" class=\"dataframe\">\n",
       "  <thead>\n",
       "    <tr style=\"text-align: right;\">\n",
       "      <th></th>\n",
       "      <th>split</th>\n",
       "      <th>image_id</th>\n",
       "    </tr>\n",
       "  </thead>\n",
       "  <tbody>\n",
       "    <tr>\n",
       "      <th>0</th>\n",
       "      <td>train</td>\n",
       "      <td>ISIC_0027615</td>\n",
       "    </tr>\n",
       "    <tr>\n",
       "      <th>1</th>\n",
       "      <td>train</td>\n",
       "      <td>ISIC_0029876</td>\n",
       "    </tr>\n",
       "    <tr>\n",
       "      <th>2</th>\n",
       "      <td>train</td>\n",
       "      <td>ISIC_0031193</td>\n",
       "    </tr>\n",
       "    <tr>\n",
       "      <th>3</th>\n",
       "      <td>train</td>\n",
       "      <td>ISIC_0030743</td>\n",
       "    </tr>\n",
       "    <tr>\n",
       "      <th>4</th>\n",
       "      <td>train</td>\n",
       "      <td>ISIC_0026475</td>\n",
       "    </tr>\n",
       "  </tbody>\n",
       "</table>\n",
       "</div>"
      ],
      "text/plain": [
       "   split      image_id\n",
       "0  train  ISIC_0027615\n",
       "1  train  ISIC_0029876\n",
       "2  train  ISIC_0031193\n",
       "3  train  ISIC_0030743\n",
       "4  train  ISIC_0026475"
      ]
     },
     "execution_count": 7,
     "metadata": {},
     "output_type": "execute_result"
    }
   ],
   "source": [
    "dermamnist_metadata.head()"
   ]
  },
  {
   "cell_type": "markdown",
   "id": "6c508919",
   "metadata": {},
   "source": [
    "## Combine the 2 dataframes into one based on the shared `image_id`."
   ]
  },
  {
   "cell_type": "code",
   "execution_count": 8,
   "id": "fbaa7a34",
   "metadata": {},
   "outputs": [],
   "source": [
    "combined_metadata: pd.DataFrame = pd.merge(ham10k_metadata, dermamnist_metadata, on='image_id')\n",
    "\n",
    "# Assert that the combine operation did not drop any rows.\n",
    "assert combined_metadata.shape[0] == dermamnist_metadata.shape[0]"
   ]
  },
  {
   "cell_type": "code",
   "execution_count": 9,
   "id": "ca89c258",
   "metadata": {},
   "outputs": [
    {
     "data": {
      "text/html": [
       "<div>\n",
       "<style scoped>\n",
       "    .dataframe tbody tr th:only-of-type {\n",
       "        vertical-align: middle;\n",
       "    }\n",
       "\n",
       "    .dataframe tbody tr th {\n",
       "        vertical-align: top;\n",
       "    }\n",
       "\n",
       "    .dataframe thead th {\n",
       "        text-align: right;\n",
       "    }\n",
       "</style>\n",
       "<table border=\"1\" class=\"dataframe\">\n",
       "  <thead>\n",
       "    <tr style=\"text-align: right;\">\n",
       "      <th></th>\n",
       "      <th>lesion_id</th>\n",
       "      <th>image_id</th>\n",
       "      <th>dx</th>\n",
       "      <th>dx_type</th>\n",
       "      <th>age</th>\n",
       "      <th>sex</th>\n",
       "      <th>localization</th>\n",
       "      <th>dataset</th>\n",
       "      <th>split</th>\n",
       "    </tr>\n",
       "  </thead>\n",
       "  <tbody>\n",
       "    <tr>\n",
       "      <th>0</th>\n",
       "      <td>HAM_0000118</td>\n",
       "      <td>ISIC_0027419</td>\n",
       "      <td>bkl</td>\n",
       "      <td>histo</td>\n",
       "      <td>80.0</td>\n",
       "      <td>male</td>\n",
       "      <td>scalp</td>\n",
       "      <td>vidir_modern</td>\n",
       "      <td>train</td>\n",
       "    </tr>\n",
       "    <tr>\n",
       "      <th>1</th>\n",
       "      <td>HAM_0000118</td>\n",
       "      <td>ISIC_0025030</td>\n",
       "      <td>bkl</td>\n",
       "      <td>histo</td>\n",
       "      <td>80.0</td>\n",
       "      <td>male</td>\n",
       "      <td>scalp</td>\n",
       "      <td>vidir_modern</td>\n",
       "      <td>test</td>\n",
       "    </tr>\n",
       "    <tr>\n",
       "      <th>2</th>\n",
       "      <td>HAM_0002730</td>\n",
       "      <td>ISIC_0026769</td>\n",
       "      <td>bkl</td>\n",
       "      <td>histo</td>\n",
       "      <td>80.0</td>\n",
       "      <td>male</td>\n",
       "      <td>scalp</td>\n",
       "      <td>vidir_modern</td>\n",
       "      <td>train</td>\n",
       "    </tr>\n",
       "    <tr>\n",
       "      <th>3</th>\n",
       "      <td>HAM_0002730</td>\n",
       "      <td>ISIC_0025661</td>\n",
       "      <td>bkl</td>\n",
       "      <td>histo</td>\n",
       "      <td>80.0</td>\n",
       "      <td>male</td>\n",
       "      <td>scalp</td>\n",
       "      <td>vidir_modern</td>\n",
       "      <td>train</td>\n",
       "    </tr>\n",
       "    <tr>\n",
       "      <th>4</th>\n",
       "      <td>HAM_0001466</td>\n",
       "      <td>ISIC_0031633</td>\n",
       "      <td>bkl</td>\n",
       "      <td>histo</td>\n",
       "      <td>75.0</td>\n",
       "      <td>male</td>\n",
       "      <td>ear</td>\n",
       "      <td>vidir_modern</td>\n",
       "      <td>train</td>\n",
       "    </tr>\n",
       "  </tbody>\n",
       "</table>\n",
       "</div>"
      ],
      "text/plain": [
       "     lesion_id      image_id   dx dx_type   age   sex localization  \\\n",
       "0  HAM_0000118  ISIC_0027419  bkl   histo  80.0  male        scalp   \n",
       "1  HAM_0000118  ISIC_0025030  bkl   histo  80.0  male        scalp   \n",
       "2  HAM_0002730  ISIC_0026769  bkl   histo  80.0  male        scalp   \n",
       "3  HAM_0002730  ISIC_0025661  bkl   histo  80.0  male        scalp   \n",
       "4  HAM_0001466  ISIC_0031633  bkl   histo  75.0  male          ear   \n",
       "\n",
       "        dataset  split  \n",
       "0  vidir_modern  train  \n",
       "1  vidir_modern   test  \n",
       "2  vidir_modern  train  \n",
       "3  vidir_modern  train  \n",
       "4  vidir_modern  train  "
      ]
     },
     "execution_count": 9,
     "metadata": {},
     "output_type": "execute_result"
    }
   ],
   "source": [
    "combined_metadata.head()"
   ]
  },
  {
   "cell_type": "markdown",
   "id": "220fed4d",
   "metadata": {},
   "source": [
    "### Export the combined dataframe as a CSV file."
   ]
  },
  {
   "cell_type": "code",
   "execution_count": 10,
   "id": "7a0c13f9",
   "metadata": {},
   "outputs": [],
   "source": [
    "combined_metadata.to_csv(Path(\"CSV_files/combined_metadata_original.csv\"), index=False)"
   ]
  },
  {
   "cell_type": "markdown",
   "id": "390a0335",
   "metadata": {},
   "source": [
    "## Analyzing the combined dataframe:\n",
    "- Count the number of unique `lesion_id` values.\n",
    "- Count the frequency of `lesion_id` repeated against the lesion images (rows) in the dataframe. This means counting how many `lesion_id` values are repeated 1 time, 2 times, 3 times, etc.\n",
    "- Plot the above frequency distribution. Use a log-scale."
   ]
  },
  {
   "cell_type": "code",
   "execution_count": 11,
   "id": "1c5f6961",
   "metadata": {},
   "outputs": [
    {
     "data": {
      "text/plain": [
       "7470"
      ]
     },
     "execution_count": 11,
     "metadata": {},
     "output_type": "execute_result"
    }
   ],
   "source": [
    "# Count the number of unique `lesion_id` values.\n",
    "combined_metadata['lesion_id'].nunique()"
   ]
  },
  {
   "cell_type": "code",
   "execution_count": 12,
   "id": "48b625d9",
   "metadata": {},
   "outputs": [
    {
     "data": {
      "text/plain": [
       "1    5514\n",
       "2    1423\n",
       "3     490\n",
       "4      34\n",
       "5       5\n",
       "6       4\n",
       "Name: lesion_id, dtype: int64"
      ]
     },
     "execution_count": 12,
     "metadata": {},
     "output_type": "execute_result"
    }
   ],
   "source": [
    "# Count the frequency of `lesion_id` values.\n",
    "combined_metadata['lesion_id'].value_counts().value_counts()"
   ]
  },
  {
   "cell_type": "code",
   "execution_count": 13,
   "id": "1b26083f",
   "metadata": {},
   "outputs": [
    {
     "data": {
      "image/png": "[encoded data removed]",
      "text/plain": [
       "<Figure size 432x288 with 1 Axes>"
      ]
     },
     "metadata": {},
     "output_type": "display_data"
    }
   ],
   "source": [
    "# Plot using matplotlib.\n",
    "\n",
    "ax = combined_metadata['lesion_id'].value_counts().value_counts().sort_index().plot(kind='bar')\n",
    "\n",
    "for container in ax.containers:\n",
    "    ax.bar_label(container)\n",
    "\n",
    "plt.yscale(\"log\")"
   ]
  },
  {
   "cell_type": "code",
   "execution_count": 14,
   "id": "cf71e474",
   "metadata": {},
   "outputs": [
    {
     "data": {
      "image/png": "[encoded data removed]",
      "text/plain": [
       "<Figure size 432x288 with 1 Axes>"
      ]
     },
     "metadata": {},
     "output_type": "display_data"
    }
   ],
   "source": [
    "# Plot using seaborn.\n",
    "\n",
    "combined_stats_toplot = combined_metadata['lesion_id'].value_counts().value_counts().sort_index()\n",
    "\n",
    "ax = sns.barplot(x=combined_stats_toplot.index, y=combined_stats_toplot.values)\n",
    "\n",
    "ax.bar_label(ax.containers[0])\n",
    "\n",
    "ax.set(ylim=(1, 5e4))\n",
    "ax.set_yscale(\"log\")"
   ]
  },
  {
   "cell_type": "markdown",
   "id": "10db4e38",
   "metadata": {},
   "source": [
    "## Correcting the partitions"
   ]
  },
  {
   "cell_type": "markdown",
   "id": "781220af",
   "metadata": {},
   "source": [
    "We adopt a standard naming scheme to denote sets: `xyz`, where `x`, `y`, and `z` denote training, validation, and testing partitions, and can each be either `0` or `1` denoting whether elements from those partitions are present.\n",
    "\n",
    "Accordingly:\n",
    "\n",
    "- `110` -> train_valid\n",
    "- `101` -> train_test\n",
    "- `010` -> valid\n",
    "- `011` -> valid_test\n",
    "- `111` -> train_valid_test"
   ]
  },
  {
   "cell_type": "code",
   "execution_count": 15,
   "id": "d7245459",
   "metadata": {},
   "outputs": [
    {
     "name": "stdout",
     "output_type": "stream",
     "text": [
      "train -> 7007 images\n",
      "val -> 1003 images\n",
      "test -> 2005 images\n",
      "train-test lesion_id overlap: 886 images\n",
      "train-val lesion_id overlap: 440 images\n",
      "val-test lesion_id overlap: 128 images\n",
      "train-val-test lesion_id overlap: 51 images\n"
     ]
    }
   ],
   "source": [
    "'''\n",
    "Naming scheme: train_valid_test\n",
    "110 -> train_valid\n",
    "101 -> train_test\n",
    "010 -> valid\n",
    "011 -> valid_test\n",
    "111 -> train_valid_test\n",
    "'''\n",
    "\n",
    "selected_rows = {}\n",
    "\n",
    "# We first create the partitions originally present in DermaMNIST, and print the number of\n",
    "# images in each partition.\n",
    "\n",
    "for split in ['train', 'val', 'test']:\n",
    "    selected_rows[split] = combined_metadata[combined_metadata['split']==split]\n",
    "    print(f'{split} -> {selected_rows[split].shape[0]} images')\n",
    "\n",
    "# Next, we find `lesion_id` intersections between the partitions. There are 4 such intersections:\n",
    "# - train-test\n",
    "# - train-val\n",
    "# - val-test\n",
    "# - train-val-test\n",
    "    \n",
    "intersect_101 = pd.merge(selected_rows['train'], selected_rows['test'], how='inner', on='lesion_id')\n",
    "intersect_110 = pd.merge(selected_rows['train'], selected_rows['val'], how='inner', on='lesion_id')\n",
    "intersect_011 = pd.merge(selected_rows['val'], selected_rows['test'], how='inner', on='lesion_id')\n",
    "intersect_111 = pd.merge(intersect_110, selected_rows['test'], how='inner', on='lesion_id')\n",
    "\n",
    "print(f'train-test lesion_id overlap: {intersect_101.shape[0]} images')\n",
    "print(f'train-val lesion_id overlap: {intersect_110.shape[0]} images')\n",
    "print(f'val-test lesion_id overlap: {intersect_011.shape[0]} images')\n",
    "print(f'train-val-test lesion_id overlap: {intersect_111.shape[0]} images')"
   ]
  },
  {
   "cell_type": "code",
   "execution_count": 16,
   "id": "5907b545",
   "metadata": {},
   "outputs": [
    {
     "name": "stdout",
     "output_type": "stream",
     "text": [
      "train-test lesion_id overlap: 641 lesions/lesion IDs\n",
      "train-val lesion_id overlap: 332 lesions/lesion IDs\n",
      "val-test lesion_id overlap: 113 lesions/lesion IDs\n",
      "train-val-test lesion_id overlap: 40 lesions/lesion IDs\n"
     ]
    }
   ],
   "source": [
    "lesionID_101 = intersect_101[\"lesion_id\"].unique()\n",
    "lesionID_110 = intersect_110[\"lesion_id\"].unique()\n",
    "lesionID_011 = intersect_011[\"lesion_id\"].unique()\n",
    "lesionID_111 = intersect_111[\"lesion_id\"].unique()\n",
    "\n",
    "print(f'train-test lesion_id overlap: {lesionID_101.shape[0]} lesions/lesion IDs')\n",
    "print(f'train-val lesion_id overlap: {lesionID_110.shape[0]} lesions/lesion IDs')\n",
    "print(f'val-test lesion_id overlap: {lesionID_011.shape[0]} lesions/lesion IDs')\n",
    "print(f'train-val-test lesion_id overlap: {lesionID_111.shape[0]} lesions/lesion IDs')"
   ]
  },
  {
   "cell_type": "markdown",
   "id": "879f31ca",
   "metadata": {},
   "source": [
    "## Duplicate removal strategy"
   ]
  },
  {
   "cell_type": "markdown",
   "id": "fcd3d775",
   "metadata": {},
   "source": [
    "There should be three partitions of the dataset: `train`, `val`, and `test`.\n",
    "\n",
    "Taking into account the intersections, there are 4 intersections (as before, based on lesion ID): `train-test`, `train-val`, `val-test`, and `train-val-test`. We need to ensure that these intersections are empty.\n",
    "\n",
    "Approach: if a lesion ID appears in `train` partition, we remove all of its occurrences from all the other partitions and all the intersections."
   ]
  },
  {
   "cell_type": "markdown",
   "id": "91d106cf",
   "metadata": {},
   "source": [
    "### corrected"
   ]
  },
  {
   "cell_type": "code",
   "execution_count": 17,
   "id": "055d0a28",
   "metadata": {
    "scrolled": false
   },
   "outputs": [
    {
     "name": "stdout",
     "output_type": "stream",
     "text": [
      "[corrected] new train -> 8208 images\n",
      "[corrected] new val -> 575 images\n",
      "[corrected] new test -> 1232 images\n"
     ]
    }
   ],
   "source": [
    "# Find lesion ID duplicates between `train` and {`val`, `test`}.\n",
    "\n",
    "val_duplicates = selected_rows[\"val\"].loc[selected_rows[\"val\"][\"lesion_id\"].isin(lesionID_110)]\n",
    "test_duplicates = selected_rows[\"test\"].loc[selected_rows[\"test\"][\"lesion_id\"].isin(lesionID_101)]\n",
    "\n",
    "# Find lesion ID duplicates between `val` and `val-test` and between `test` and `val-test`.\n",
    "\n",
    "val_shared_duplicates = selected_rows[\"val\"].loc[selected_rows[\"val\"][\"lesion_id\"].isin(lesionID_011)]\n",
    "test_shared_duplicates = selected_rows[\"test\"].loc[selected_rows[\"test\"][\"lesion_id\"].isin(lesionID_011)]\n",
    "\n",
    "# print(val_duplicates.shape, test_duplicates.shape)\n",
    "# print(val_shared_duplicates.shape, test_shared_duplicates.shape)\n",
    "\n",
    "\n",
    "\n",
    "# Store the corrected partitions in `corrected`, since we are moving all violating lesion IDs\n",
    "# to the `train` partition.\n",
    "\n",
    "corrected = {}\n",
    "\n",
    "# In the `train` partition, add elements from the other 2 partitions and the intersections, \n",
    "# and remove duplicates since there are bound to be some.\n",
    "\n",
    "corrected[\"train\"] = pd.concat(\n",
    "    [\n",
    "        selected_rows[\"train\"],\n",
    "        val_duplicates,\n",
    "        test_duplicates,\n",
    "        val_shared_duplicates,\n",
    "        test_shared_duplicates,\n",
    "    ],\n",
    "    ignore_index=True\n",
    ")\n",
    "corrected[\"train\"] = corrected[\"train\"].drop_duplicates()\n",
    "\n",
    "# Re-label the `split` attribute of all the entries in `train` to `train`.\n",
    "\n",
    "corrected[\"train\"][\"split\"] = \"train\"\n",
    "\n",
    "\n",
    "\n",
    "# In the `val` and the `test` partitions, remove the duplicates obtained using the union \n",
    "# of the respective partitions and from the intersections.\n",
    "\n",
    "corrected[\"val\"] = (\n",
    "    selected_rows[\"val\"]\n",
    "    .drop(val_duplicates.index.union(val_shared_duplicates.index))\n",
    ")\n",
    "\n",
    "corrected[\"test\"] = (\n",
    "    selected_rows[\"test\"]\n",
    "    .drop(test_duplicates.index.union(test_shared_duplicates.index))\n",
    ")\n",
    "\n",
    "for split in ['train', 'val', 'test']:\n",
    "    print(f'[corrected] new {split} -> {corrected[split].shape[0]} images')\n",
    "    \n",
    "\n",
    "    \n",
    "# Check that there are no more overlaps among the partitions.\n",
    "    \n",
    "assert pd.merge(corrected['train'], corrected['val'], how='inner', on='lesion_id').shape[0] == 0\n",
    "assert pd.merge(corrected['train'], corrected['test'], how='inner', on='lesion_id').shape[0] == 0\n",
    "assert pd.merge(corrected['test'], corrected['val'], how='inner', on='lesion_id').shape[0] == 0\n",
    "\n",
    "dfs_to_merge = [corrected['train'], corrected['val'], corrected['test']]\n",
    "\n",
    "\n",
    "\n",
    "# Concatenate all the partitions into a single DataFrame, check that it has neither \n",
    "# any missing rows nor any duplicate rows, and then export it to file.\n",
    "\n",
    "corrected_df = pd.concat(dfs_to_merge, axis=0, ignore_index=True)\n",
    "\n",
    "assert corrected_df.duplicated(keep=False).shape[0] == corrected_df.shape[0]\n",
    "assert corrected_df.shape[0] == combined_metadata.shape[0]\n",
    "corrected_df.to_csv(Path(\"CSV_files/combined_metadata_corrected.csv\"), index=False)"
   ]
  }
 ],
 "metadata": {
  "kernelspec": {
   "display_name": "Python 3 (ipykernel)",
   "language": "python",
   "name": "python3"
  },
  "language_info": {
   "codemirror_mode": {
    "name": "ipython",
    "version": 3
   },
   "file_extension": ".py",
   "mimetype": "text/x-python",
   "name": "python",
   "nbconvert_exporter": "python",
   "pygments_lexer": "ipython3",
   "version": "3.10.4"
  }
 },
 "nbformat": 4,
 "nbformat_minor": 5
}
